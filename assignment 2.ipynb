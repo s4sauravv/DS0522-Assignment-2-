{
 "cells": [
  {
   "cell_type": "code",
   "execution_count": 1,
   "id": "634f13dc",
   "metadata": {},
   "outputs": [],
   "source": [
    "#Assignment 2 \n",
    "#Student of DataTrained-Saurav\n",
    "#Student of Datscience"
   ]
  },
  {
   "cell_type": "code",
   "execution_count": 2,
   "id": "fb002dac",
   "metadata": {},
   "outputs": [],
   "source": [
    "#Squares\n",
    "#\n",
    "#squares[0] # indexing returns the item\n",
    "#\n",
    "#squares[-1]\n",
    "#\n",
    "#squares[-3:]\n",
    "#\n",
    "#squares[:]\n",
    "#"
   ]
  },
  {
   "cell_type": "code",
   "execution_count": 4,
   "id": "b50ff845",
   "metadata": {},
   "outputs": [],
   "source": [
    "s=\"square\""
   ]
  },
  {
   "cell_type": "code",
   "execution_count": 5,
   "id": "77ac47c5",
   "metadata": {},
   "outputs": [
    {
     "data": {
      "text/plain": [
       "'s'"
      ]
     },
     "execution_count": 5,
     "metadata": {},
     "output_type": "execute_result"
    }
   ],
   "source": [
    "s[0]"
   ]
  },
  {
   "cell_type": "code",
   "execution_count": 6,
   "id": "f68a45dc",
   "metadata": {},
   "outputs": [
    {
     "data": {
      "text/plain": [
       "'e'"
      ]
     },
     "execution_count": 6,
     "metadata": {},
     "output_type": "execute_result"
    }
   ],
   "source": [
    "s[-1]"
   ]
  },
  {
   "cell_type": "code",
   "execution_count": 8,
   "id": "b7437e74",
   "metadata": {},
   "outputs": [
    {
     "data": {
      "text/plain": [
       "'a'"
      ]
     },
     "execution_count": 8,
     "metadata": {},
     "output_type": "execute_result"
    }
   ],
   "source": [
    "s[-3]"
   ]
  },
  {
   "cell_type": "code",
   "execution_count": 9,
   "id": "7b8379ee",
   "metadata": {},
   "outputs": [
    {
     "data": {
      "text/plain": [
       "'square'"
      ]
     },
     "execution_count": 9,
     "metadata": {},
     "output_type": "execute_result"
    }
   ],
   "source": [
    "s[:]"
   ]
  },
  {
   "cell_type": "code",
   "execution_count": 12,
   "id": "ba66b6c5",
   "metadata": {},
   "outputs": [
    {
     "data": {
      "text/plain": [
       "'qr'"
      ]
     },
     "execution_count": 12,
     "metadata": {},
     "output_type": "execute_result"
    }
   ],
   "source": [
    "s[1::3]"
   ]
  },
  {
   "cell_type": "code",
   "execution_count": 16,
   "id": "ab3e8e3a",
   "metadata": {},
   "outputs": [
    {
     "data": {
      "text/plain": [
       "'square[36, 49, 64, 81, 100]'"
      ]
     },
     "execution_count": 16,
     "metadata": {},
     "output_type": "execute_result"
    }
   ],
   "source": [
    "s+str([36, 49, 64, 81, 100])"
   ]
  },
  {
   "cell_type": "code",
   "execution_count": 17,
   "id": "8c320893",
   "metadata": {},
   "outputs": [],
   "source": [
    "#cubes = [1, 8, 27, 65, 125]\n",
    "#\n",
    "#cubes[3] = 64\n",
    "#\n",
    "#cubes\n",
    "#\n",
    "#cubes.append(216) # add the cube of 6\n",
    "#\n",
    "#cubes.append(7 ** 3) # and the cube of 7\n",
    "#\n",
    "#cubes"
   ]
  },
  {
   "cell_type": "code",
   "execution_count": 18,
   "id": "a1fa1b74",
   "metadata": {},
   "outputs": [],
   "source": [
    "cubes=[1,8,27,65,125]"
   ]
  },
  {
   "cell_type": "code",
   "execution_count": 20,
   "id": "f433e4c2",
   "metadata": {},
   "outputs": [
    {
     "data": {
      "text/plain": [
       "65"
      ]
     },
     "execution_count": 20,
     "metadata": {},
     "output_type": "execute_result"
    }
   ],
   "source": [
    "cubes[3]"
   ]
  },
  {
   "cell_type": "code",
   "execution_count": 21,
   "id": "69c52104",
   "metadata": {},
   "outputs": [],
   "source": [
    "cubes.append(216)"
   ]
  },
  {
   "cell_type": "code",
   "execution_count": 22,
   "id": "24a49c1c",
   "metadata": {},
   "outputs": [
    {
     "data": {
      "text/plain": [
       "[1, 8, 27, 65, 125, 216]"
      ]
     },
     "execution_count": 22,
     "metadata": {},
     "output_type": "execute_result"
    }
   ],
   "source": [
    "cubes"
   ]
  },
  {
   "cell_type": "code",
   "execution_count": 23,
   "id": "25be655b",
   "metadata": {},
   "outputs": [],
   "source": [
    "#letters = ['a', 'b', 'c', 'd', 'e', 'f', 'g']\n",
    "\n",
    "#letters"
   ]
  },
  {
   "cell_type": "code",
   "execution_count": 25,
   "id": "652b0ed6",
   "metadata": {},
   "outputs": [
    {
     "data": {
      "text/plain": [
       "['a', 'b', 'c', 'd', 'e', 'f']"
      ]
     },
     "execution_count": 25,
     "metadata": {},
     "output_type": "execute_result"
    }
   ],
   "source": [
    "letters=['a','b','c','d','e','f']\n",
    "letters"
   ]
  },
  {
   "cell_type": "code",
   "execution_count": 26,
   "id": "32fd1135",
   "metadata": {},
   "outputs": [],
   "source": [
    "# replace some values\n",
    "#letters[2:5] = ['C', 'D', 'E']\n",
    "#letters\n",
    "#len(letters)"
   ]
  },
  {
   "cell_type": "code",
   "execution_count": 29,
   "id": "b5afb298",
   "metadata": {},
   "outputs": [
    {
     "data": {
      "text/plain": [
       "['c', 'd', 'e']"
      ]
     },
     "execution_count": 29,
     "metadata": {},
     "output_type": "execute_result"
    }
   ],
   "source": [
    "letters[2:5]"
   ]
  },
  {
   "cell_type": "code",
   "execution_count": 32,
   "id": "d7a6c0ef",
   "metadata": {},
   "outputs": [
    {
     "data": {
      "text/plain": [
       "6"
      ]
     },
     "execution_count": 32,
     "metadata": {},
     "output_type": "execute_result"
    }
   ],
   "source": [
    "len(letters)"
   ]
  },
  {
   "cell_type": "code",
   "execution_count": 30,
   "id": "44a9f4df",
   "metadata": {},
   "outputs": [],
   "source": [
    "\n",
    "#fruits = ['orange', 'apple', 'pear', 'banana', 'kiwi', 'apple', 'banana']\n",
    "\n",
    "#fruits.count('apple')"
   ]
  },
  {
   "cell_type": "code",
   "execution_count": 34,
   "id": "c0f587d6",
   "metadata": {},
   "outputs": [
    {
     "data": {
      "text/plain": [
       "2"
      ]
     },
     "execution_count": 34,
     "metadata": {},
     "output_type": "execute_result"
    }
   ],
   "source": [
    "fruits=[\"orange\",\"apple\",\"pear\",\"banana\",\"kiwi\",\"banana\"]\n",
    "fruits.count(\"banana\")"
   ]
  },
  {
   "cell_type": "code",
   "execution_count": 35,
   "id": "f3e2747f",
   "metadata": {},
   "outputs": [],
   "source": [
    "#fruits.count('tangerine') #Return the number of times x appears in the list\n",
    "\n",
    "#fruits.index('banana')"
   ]
  },
  {
   "cell_type": "code",
   "execution_count": 36,
   "id": "2f918837",
   "metadata": {},
   "outputs": [
    {
     "data": {
      "text/plain": [
       "0"
      ]
     },
     "execution_count": 36,
     "metadata": {},
     "output_type": "execute_result"
    }
   ],
   "source": [
    "fruits.count('tangerine')"
   ]
  },
  {
   "cell_type": "code",
   "execution_count": 37,
   "id": "048cb081",
   "metadata": {},
   "outputs": [
    {
     "data": {
      "text/plain": [
       "3"
      ]
     },
     "execution_count": 37,
     "metadata": {},
     "output_type": "execute_result"
    }
   ],
   "source": [
    "fruits.index(\"banana\")"
   ]
  },
  {
   "cell_type": "code",
   "execution_count": 38,
   "id": "0e5efbf0",
   "metadata": {},
   "outputs": [],
   "source": [
    "#fruits.index('banana', 4) # Find next banana starting a position 4\n",
    "#\n",
    "#fruits.reverse()\n",
    "#\n",
    "#fruits\n",
    "#\n",
    "#fruits.append('grape')\n",
    "#"
   ]
  },
  {
   "cell_type": "code",
   "execution_count": 39,
   "id": "72c2dc84",
   "metadata": {},
   "outputs": [
    {
     "data": {
      "text/plain": [
       "['orange', 'apple', 'pear', 'banana', 'kiwi', 'banana']"
      ]
     },
     "execution_count": 39,
     "metadata": {},
     "output_type": "execute_result"
    }
   ],
   "source": [
    "fruits"
   ]
  },
  {
   "cell_type": "code",
   "execution_count": 47,
   "id": "2cfb998f",
   "metadata": {},
   "outputs": [
    {
     "data": {
      "text/plain": [
       "5"
      ]
     },
     "execution_count": 47,
     "metadata": {},
     "output_type": "execute_result"
    }
   ],
   "source": [
    "fruits.index(\"banana\",4)"
   ]
  },
  {
   "cell_type": "code",
   "execution_count": 41,
   "id": "64bc15d6",
   "metadata": {},
   "outputs": [
    {
     "data": {
      "text/plain": [
       "['orange', 'apple', 'pear', 'banana', 'kiwi', 'banana']"
      ]
     },
     "execution_count": 41,
     "metadata": {},
     "output_type": "execute_result"
    }
   ],
   "source": [
    "fruits"
   ]
  },
  {
   "cell_type": "code",
   "execution_count": 48,
   "id": "4e291d48",
   "metadata": {},
   "outputs": [
    {
     "data": {
      "text/plain": [
       "['orange', 'apple', 'pear', 'banana', 'kiwi', 'banana']"
      ]
     },
     "execution_count": 48,
     "metadata": {},
     "output_type": "execute_result"
    }
   ],
   "source": [
    "fruits"
   ]
  },
  {
   "cell_type": "code",
   "execution_count": 50,
   "id": "16f1c434",
   "metadata": {},
   "outputs": [],
   "source": [
    "fruits.reverse()"
   ]
  },
  {
   "cell_type": "code",
   "execution_count": 51,
   "id": "825d7cbd",
   "metadata": {},
   "outputs": [
    {
     "data": {
      "text/plain": [
       "['banana', 'kiwi', 'banana', 'pear', 'apple', 'orange']"
      ]
     },
     "execution_count": 51,
     "metadata": {},
     "output_type": "execute_result"
    }
   ],
   "source": [
    "fruits"
   ]
  },
  {
   "cell_type": "code",
   "execution_count": 53,
   "id": "d564d1ad",
   "metadata": {},
   "outputs": [],
   "source": [
    "fruits.append(\"Grapes\")"
   ]
  },
  {
   "cell_type": "code",
   "execution_count": 54,
   "id": "0bd4ecaf",
   "metadata": {},
   "outputs": [
    {
     "data": {
      "text/plain": [
       "['banana', 'kiwi', 'banana', 'pear', 'apple', 'orange', 'Grapes']"
      ]
     },
     "execution_count": 54,
     "metadata": {},
     "output_type": "execute_result"
    }
   ],
   "source": [
    "fruits"
   ]
  },
  {
   "cell_type": "code",
   "execution_count": 55,
   "id": "4be13b45",
   "metadata": {},
   "outputs": [],
   "source": [
    "# fruits\n",
    "#\n",
    "# fruits.sort()\n",
    "#\n",
    "# fruits\n",
    "#\n",
    "#fruits.pop()\n",
    "#"
   ]
  },
  {
   "cell_type": "code",
   "execution_count": 56,
   "id": "59f505d1",
   "metadata": {},
   "outputs": [
    {
     "data": {
      "text/plain": [
       "['banana', 'kiwi', 'banana', 'pear', 'apple', 'orange', 'Grapes']"
      ]
     },
     "execution_count": 56,
     "metadata": {},
     "output_type": "execute_result"
    }
   ],
   "source": [
    "fruits"
   ]
  },
  {
   "cell_type": "code",
   "execution_count": 60,
   "id": "ae5067a5",
   "metadata": {},
   "outputs": [],
   "source": [
    "fruits.sort()"
   ]
  },
  {
   "cell_type": "code",
   "execution_count": 61,
   "id": "fb6f0544",
   "metadata": {},
   "outputs": [
    {
     "data": {
      "text/plain": [
       "['Grapes', 'apple', 'banana', 'banana', 'kiwi', 'orange', 'pear']"
      ]
     },
     "execution_count": 61,
     "metadata": {},
     "output_type": "execute_result"
    }
   ],
   "source": [
    "fruits"
   ]
  },
  {
   "cell_type": "code",
   "execution_count": 62,
   "id": "76cc5453",
   "metadata": {},
   "outputs": [
    {
     "data": {
      "text/plain": [
       "'pear'"
      ]
     },
     "execution_count": 62,
     "metadata": {},
     "output_type": "execute_result"
    }
   ],
   "source": [
    "fruits.pop()"
   ]
  },
  {
   "cell_type": "code",
   "execution_count": 63,
   "id": "ef79663d",
   "metadata": {},
   "outputs": [
    {
     "data": {
      "text/plain": [
       "['Grapes', 'apple', 'banana', 'banana', 'kiwi', 'orange']"
      ]
     },
     "execution_count": 63,
     "metadata": {},
     "output_type": "execute_result"
    }
   ],
   "source": [
    "fruits"
   ]
  },
  {
   "cell_type": "code",
   "execution_count": 64,
   "id": "ba502c56",
   "metadata": {},
   "outputs": [
    {
     "data": {
      "text/plain": [
       "'banana'"
      ]
     },
     "execution_count": 64,
     "metadata": {},
     "output_type": "execute_result"
    }
   ],
   "source": [
    "fruits.pop(3)"
   ]
  },
  {
   "cell_type": "code",
   "execution_count": 65,
   "id": "d1a44893",
   "metadata": {},
   "outputs": [
    {
     "data": {
      "text/plain": [
       "['Grapes', 'apple', 'banana', 'kiwi', 'orange']"
      ]
     },
     "execution_count": 65,
     "metadata": {},
     "output_type": "execute_result"
    }
   ],
   "source": [
    "fruits"
   ]
  },
  {
   "cell_type": "code",
   "execution_count": 66,
   "id": "9823ec76",
   "metadata": {},
   "outputs": [],
   "source": [
    "\n",
    "#stack.pop()\n",
    "#\n",
    "#stack\n",
    "#\n",
    "#stack.pop()\n",
    "#\n",
    "#stack.pop()\n",
    "#\n",
    "#stack"
   ]
  },
  {
   "cell_type": "code",
   "execution_count": 67,
   "id": "d81404c2",
   "metadata": {},
   "outputs": [],
   "source": [
    "#stack = [3, 4, 5]\n",
    "#\n",
    "#stack.append(6)\n",
    "#\n",
    "#stack.append(7)\n",
    "#\n",
    "#stack"
   ]
  },
  {
   "cell_type": "code",
   "execution_count": 68,
   "id": "2351d485",
   "metadata": {},
   "outputs": [],
   "source": [
    "stack=[3,4,5]"
   ]
  },
  {
   "cell_type": "code",
   "execution_count": 70,
   "id": "8d7f74e4",
   "metadata": {},
   "outputs": [],
   "source": [
    "stack.append(6)"
   ]
  },
  {
   "cell_type": "code",
   "execution_count": 71,
   "id": "412d1bd4",
   "metadata": {},
   "outputs": [],
   "source": [
    "stack.append(7)"
   ]
  },
  {
   "cell_type": "code",
   "execution_count": 72,
   "id": "c425bb10",
   "metadata": {},
   "outputs": [
    {
     "data": {
      "text/plain": [
       "[3, 4, 5, 6, 7]"
      ]
     },
     "execution_count": 72,
     "metadata": {},
     "output_type": "execute_result"
    }
   ],
   "source": [
    "stack"
   ]
  },
  {
   "cell_type": "code",
   "execution_count": 73,
   "id": "3ff06e4d",
   "metadata": {},
   "outputs": [],
   "source": [
    "#stack.pop()\n",
    "#\n",
    "#stack\n",
    "#\n",
    "#stack.pop()\n",
    "#\n",
    "#stack.pop()\n",
    "#\n",
    "#stack"
   ]
  },
  {
   "cell_type": "code",
   "execution_count": 74,
   "id": "2f2910c9",
   "metadata": {},
   "outputs": [
    {
     "data": {
      "text/plain": [
       "[3, 4, 5, 6, 7]"
      ]
     },
     "execution_count": 74,
     "metadata": {},
     "output_type": "execute_result"
    }
   ],
   "source": [
    "stack"
   ]
  },
  {
   "cell_type": "code",
   "execution_count": 75,
   "id": "3892670a",
   "metadata": {},
   "outputs": [
    {
     "data": {
      "text/plain": [
       "7"
      ]
     },
     "execution_count": 75,
     "metadata": {},
     "output_type": "execute_result"
    }
   ],
   "source": [
    "stack.pop()"
   ]
  },
  {
   "cell_type": "code",
   "execution_count": 76,
   "id": "008e1022",
   "metadata": {},
   "outputs": [
    {
     "data": {
      "text/plain": [
       "6"
      ]
     },
     "execution_count": 76,
     "metadata": {},
     "output_type": "execute_result"
    }
   ],
   "source": [
    "stack.pop()"
   ]
  },
  {
   "cell_type": "code",
   "execution_count": 77,
   "id": "e3778768",
   "metadata": {},
   "outputs": [
    {
     "data": {
      "text/plain": [
       "[3, 4, 5]"
      ]
     },
     "execution_count": 77,
     "metadata": {},
     "output_type": "execute_result"
    }
   ],
   "source": [
    "stack"
   ]
  },
  {
   "cell_type": "code",
   "execution_count": 78,
   "id": "038d4dc9",
   "metadata": {},
   "outputs": [],
   "source": [
    "#Task:\n",
    "\n",
    "#1 . Perform all basic set operation such as-add,remove,pop"
   ]
  },
  {
   "cell_type": "code",
   "execution_count": 79,
   "id": "36cae494",
   "metadata": {},
   "outputs": [],
   "source": [
    "task1=[\"saurav\",\"gaurav\",\"amisha\",\"lovely\",\"vicky\",\"yash\"]"
   ]
  },
  {
   "cell_type": "code",
   "execution_count": 85,
   "id": "91316fbc",
   "metadata": {},
   "outputs": [],
   "source": [
    "task1.append(\"gaurav\")"
   ]
  },
  {
   "cell_type": "code",
   "execution_count": 86,
   "id": "4f081552",
   "metadata": {},
   "outputs": [
    {
     "data": {
      "text/plain": [
       "['saurav', 'gaurav', 'amisha', 'lovely', 'vicky', 'yash', 'Lucky', 'gaurav']"
      ]
     },
     "execution_count": 86,
     "metadata": {},
     "output_type": "execute_result"
    }
   ],
   "source": [
    "task1"
   ]
  },
  {
   "cell_type": "code",
   "execution_count": 87,
   "id": "1bff8113",
   "metadata": {},
   "outputs": [
    {
     "data": {
      "text/plain": [
       "2"
      ]
     },
     "execution_count": 87,
     "metadata": {},
     "output_type": "execute_result"
    }
   ],
   "source": [
    "task1.index(\"amisha\")"
   ]
  },
  {
   "cell_type": "code",
   "execution_count": 88,
   "id": "273f5580",
   "metadata": {},
   "outputs": [
    {
     "data": {
      "text/plain": [
       "2"
      ]
     },
     "execution_count": 88,
     "metadata": {},
     "output_type": "execute_result"
    }
   ],
   "source": [
    "task1.count(\"gaurav\")"
   ]
  },
  {
   "cell_type": "code",
   "execution_count": 90,
   "id": "182bbf38",
   "metadata": {},
   "outputs": [],
   "source": [
    "task1.insert(2,\"sakshi\")"
   ]
  },
  {
   "cell_type": "code",
   "execution_count": 91,
   "id": "0d0fe305",
   "metadata": {},
   "outputs": [
    {
     "data": {
      "text/plain": [
       "['saurav',\n",
       " 'gaurav',\n",
       " 'sakshi',\n",
       " 'amisha',\n",
       " 'lovely',\n",
       " 'vicky',\n",
       " 'yash',\n",
       " 'Lucky',\n",
       " 'gaurav']"
      ]
     },
     "execution_count": 91,
     "metadata": {},
     "output_type": "execute_result"
    }
   ],
   "source": [
    "task1"
   ]
  },
  {
   "cell_type": "code",
   "execution_count": 92,
   "id": "9a624bbd",
   "metadata": {},
   "outputs": [
    {
     "data": {
      "text/plain": [
       "'gaurav'"
      ]
     },
     "execution_count": 92,
     "metadata": {},
     "output_type": "execute_result"
    }
   ],
   "source": [
    "task1.pop()"
   ]
  },
  {
   "cell_type": "code",
   "execution_count": 93,
   "id": "0d82f12f",
   "metadata": {},
   "outputs": [
    {
     "data": {
      "text/plain": [
       "['saurav', 'gaurav', 'sakshi', 'amisha', 'lovely', 'vicky', 'yash', 'Lucky']"
      ]
     },
     "execution_count": 93,
     "metadata": {},
     "output_type": "execute_result"
    }
   ],
   "source": [
    "task1"
   ]
  },
  {
   "cell_type": "code",
   "execution_count": 94,
   "id": "536edabb",
   "metadata": {},
   "outputs": [
    {
     "data": {
      "text/plain": [
       "'lovely'"
      ]
     },
     "execution_count": 94,
     "metadata": {},
     "output_type": "execute_result"
    }
   ],
   "source": [
    "task1.pop(4)"
   ]
  },
  {
   "cell_type": "code",
   "execution_count": 95,
   "id": "8b80cdda",
   "metadata": {},
   "outputs": [
    {
     "data": {
      "text/plain": [
       "['saurav', 'gaurav', 'sakshi', 'amisha', 'vicky', 'yash', 'Lucky']"
      ]
     },
     "execution_count": 95,
     "metadata": {},
     "output_type": "execute_result"
    }
   ],
   "source": [
    "task1"
   ]
  },
  {
   "cell_type": "code",
   "execution_count": 96,
   "id": "afd05470",
   "metadata": {},
   "outputs": [],
   "source": [
    "task1.reverse()"
   ]
  },
  {
   "cell_type": "code",
   "execution_count": 97,
   "id": "28c3eee8",
   "metadata": {},
   "outputs": [
    {
     "data": {
      "text/plain": [
       "['Lucky', 'yash', 'vicky', 'amisha', 'sakshi', 'gaurav', 'saurav']"
      ]
     },
     "execution_count": 97,
     "metadata": {},
     "output_type": "execute_result"
    }
   ],
   "source": [
    "task1\n"
   ]
  },
  {
   "cell_type": "code",
   "execution_count": 99,
   "id": "6b9c60a9",
   "metadata": {},
   "outputs": [],
   "source": [
    "task1.sort()"
   ]
  },
  {
   "cell_type": "code",
   "execution_count": 100,
   "id": "b908e91f",
   "metadata": {},
   "outputs": [
    {
     "data": {
      "text/plain": [
       "['Lucky', 'amisha', 'gaurav', 'sakshi', 'saurav', 'vicky', 'yash']"
      ]
     },
     "execution_count": 100,
     "metadata": {},
     "output_type": "execute_result"
    }
   ],
   "source": [
    "task1"
   ]
  },
  {
   "cell_type": "code",
   "execution_count": 101,
   "id": "bd425a94",
   "metadata": {},
   "outputs": [
    {
     "data": {
      "text/plain": [
       "7"
      ]
     },
     "execution_count": 101,
     "metadata": {},
     "output_type": "execute_result"
    }
   ],
   "source": [
    "len(task1)"
   ]
  },
  {
   "cell_type": "code",
   "execution_count": 102,
   "id": "c1dfd349",
   "metadata": {},
   "outputs": [],
   "source": []
  },
  {
   "cell_type": "code",
   "execution_count": 104,
   "id": "160afd12",
   "metadata": {},
   "outputs": [],
   "source": [
    "##Dictionary\n",
    "#tel = {'jack': 4098, 'sape': 4139}\n",
    "#tel['guido'] = 4127\n",
    "#tel\n",
    "#tel['jack']\n",
    "#del tel['sape']\n",
    "#tel['irv'] = 4127\n",
    "#tel"
   ]
  },
  {
   "cell_type": "code",
   "execution_count": 105,
   "id": "86fc828a",
   "metadata": {},
   "outputs": [],
   "source": [
    "tel={\"jacl\":4098,\"sape\":4139}"
   ]
  },
  {
   "cell_type": "code",
   "execution_count": 106,
   "id": "ff01d913",
   "metadata": {},
   "outputs": [],
   "source": [
    "tel[\"guido\"]=4127"
   ]
  },
  {
   "cell_type": "code",
   "execution_count": 108,
   "id": "083ce868",
   "metadata": {},
   "outputs": [
    {
     "data": {
      "text/plain": [
       "{'jacl': 4098, 'sape': 4139, 'guido': 4127}"
      ]
     },
     "execution_count": 108,
     "metadata": {},
     "output_type": "execute_result"
    }
   ],
   "source": [
    "tel"
   ]
  },
  {
   "cell_type": "code",
   "execution_count": 109,
   "id": "b0529932",
   "metadata": {},
   "outputs": [
    {
     "data": {
      "text/plain": [
       "4139"
      ]
     },
     "execution_count": 109,
     "metadata": {},
     "output_type": "execute_result"
    }
   ],
   "source": [
    "tel[\"sape\"]"
   ]
  },
  {
   "cell_type": "code",
   "execution_count": 110,
   "id": "c22e1523",
   "metadata": {},
   "outputs": [],
   "source": [
    "tel[\"irv\"]=4127"
   ]
  },
  {
   "cell_type": "code",
   "execution_count": 112,
   "id": "814c9db9",
   "metadata": {},
   "outputs": [
    {
     "data": {
      "text/plain": [
       "{'jacl': 4098, 'sape': 4139, 'guido': 4127, 'irv': 4127}"
      ]
     },
     "execution_count": 112,
     "metadata": {},
     "output_type": "execute_result"
    }
   ],
   "source": [
    "tel"
   ]
  },
  {
   "cell_type": "code",
   "execution_count": 114,
   "id": "d2a2b8df",
   "metadata": {},
   "outputs": [],
   "source": [
    "#my_dict = {\"username\": \"XYZ\", \"email\": \"xyz@gmail.com\", \"location\":\"Mumbai\"}\n",
    "#print(\"username :\", my_dict['username'])\n",
    "#print(\"email : \", my_dict[\"email\"])\n",
    "#print(\"location : \", my_dict[\"location\"])\n"
   ]
  },
  {
   "cell_type": "code",
   "execution_count": 116,
   "id": "bb87fb61",
   "metadata": {},
   "outputs": [],
   "source": [
    "my_dict={\"username\":\"xyz\",\"email\":\"xyz@gmail.com\",\"location\":\"mumbai\"}"
   ]
  },
  {
   "cell_type": "code",
   "execution_count": 117,
   "id": "76860f8a",
   "metadata": {},
   "outputs": [
    {
     "name": "stdout",
     "output_type": "stream",
     "text": [
      "username xyz\n"
     ]
    }
   ],
   "source": [
    "print(\"username\",my_dict['username'])"
   ]
  },
  {
   "cell_type": "code",
   "execution_count": 118,
   "id": "1b03205d",
   "metadata": {},
   "outputs": [
    {
     "name": "stdout",
     "output_type": "stream",
     "text": [
      "location mumbai\n"
     ]
    }
   ],
   "source": [
    "print(\"location\",my_dict[\"location\"])"
   ]
  },
  {
   "cell_type": "code",
   "execution_count": 119,
   "id": "75358784",
   "metadata": {},
   "outputs": [],
   "source": [
    "## adding key\n",
    "#my_dict = {\"username\": \"XYZ\", \"email\": \"xyz@gmail.com\", \"location\":\"Mumbai\"}\n",
    "#my_dict['name']='Nick'\n",
    "#print(my_dict)"
   ]
  },
  {
   "cell_type": "code",
   "execution_count": 120,
   "id": "443841e4",
   "metadata": {},
   "outputs": [],
   "source": [
    "my_dict[\"name\"]=\"Nick\""
   ]
  },
  {
   "cell_type": "code",
   "execution_count": 121,
   "id": "1a2c1bb0",
   "metadata": {},
   "outputs": [
    {
     "name": "stdout",
     "output_type": "stream",
     "text": [
      "{'username': 'xyz', 'email': 'xyz@gmail.com', 'location': 'mumbai', 'name': 'Nick'}\n"
     ]
    }
   ],
   "source": [
    "print(my_dict)"
   ]
  },
  {
   "cell_type": "code",
   "execution_count": 122,
   "id": "0eceb3b6",
   "metadata": {},
   "outputs": [],
   "source": [
    "##updating value\n",
    "#my_dict = {\"username\": \"XYZ\", \"email\": \"xyz@gmail.com\", \"location\":\"Mumbai\"}\n",
    "#my_dict[\"username\"] = \"ABC\"\n",
    "#print(my_dict)"
   ]
  },
  {
   "cell_type": "code",
   "execution_count": 123,
   "id": "cf2b8c53",
   "metadata": {},
   "outputs": [],
   "source": [
    "my_dict[\"username\"]=\"ABC\""
   ]
  },
  {
   "cell_type": "code",
   "execution_count": 125,
   "id": "8f674598",
   "metadata": {},
   "outputs": [
    {
     "name": "stdout",
     "output_type": "stream",
     "text": [
      "{'username': 'ABC', 'email': 'xyz@gmail.com', 'location': 'mumbai', 'name': 'Nick'}\n"
     ]
    }
   ],
   "source": [
    "print(my_dict)"
   ]
  },
  {
   "cell_type": "code",
   "execution_count": 126,
   "id": "f88b989c",
   "metadata": {},
   "outputs": [],
   "source": [
    "#del my_dict['location'] # This will remove the element with your key.\n",
    "#my_dict\n",
    "#my_dict.pop(\"username\")\n",
    "#print(my_dict)\n",
    "#my_dict.clear()"
   ]
  },
  {
   "cell_type": "code",
   "execution_count": 128,
   "id": "fc415f5c",
   "metadata": {},
   "outputs": [],
   "source": [
    "del my_dict[\"email\"]"
   ]
  },
  {
   "cell_type": "code",
   "execution_count": 129,
   "id": "7408d4d2",
   "metadata": {},
   "outputs": [
    {
     "name": "stdout",
     "output_type": "stream",
     "text": [
      "{'username': 'ABC', 'location': 'mumbai', 'name': 'Nick'}\n"
     ]
    }
   ],
   "source": [
    "print(my_dict)"
   ]
  },
  {
   "cell_type": "code",
   "execution_count": 132,
   "id": "9bf1229e",
   "metadata": {},
   "outputs": [],
   "source": [
    "my_dict.clear()"
   ]
  },
  {
   "cell_type": "code",
   "execution_count": 133,
   "id": "3c5ceddd",
   "metadata": {},
   "outputs": [
    {
     "name": "stdout",
     "output_type": "stream",
     "text": [
      "{}\n"
     ]
    }
   ],
   "source": [
    "print(my_dict)"
   ]
  },
  {
   "cell_type": "code",
   "execution_count": 134,
   "id": "b701a9b8",
   "metadata": {},
   "outputs": [],
   "source": [
    "#Task : Do create dictionary with keys : Sports_id ,Sportname ,playername and give related values .\n",
    "#\n",
    "#Perform add,update with new key : country with value , delete and clear operation on this dictionary."
   ]
  },
  {
   "cell_type": "code",
   "execution_count": 144,
   "id": "baa3b5c4",
   "metadata": {},
   "outputs": [],
   "source": [
    "player={\"sports_id\":\"123\",\"sportname\":\"PUBG\",\"player_Name\":\"Yamraj\"}"
   ]
  },
  {
   "cell_type": "code",
   "execution_count": 145,
   "id": "8287df67",
   "metadata": {},
   "outputs": [],
   "source": [
    "player[\"county\"]=\"India\""
   ]
  },
  {
   "cell_type": "code",
   "execution_count": 146,
   "id": "85177631",
   "metadata": {},
   "outputs": [
    {
     "name": "stdout",
     "output_type": "stream",
     "text": [
      "{'sports_id': '123', 'sportname': 'PUBG', 'player_Name': 'Yamraj', 'county': 'India'}\n"
     ]
    }
   ],
   "source": [
    "print(player)"
   ]
  },
  {
   "cell_type": "code",
   "execution_count": 148,
   "id": "6ed5e11f",
   "metadata": {},
   "outputs": [],
   "source": [
    "player.clear()"
   ]
  },
  {
   "cell_type": "code",
   "execution_count": 149,
   "id": "6083046b",
   "metadata": {},
   "outputs": [
    {
     "data": {
      "text/plain": [
       "{}"
      ]
     },
     "execution_count": 149,
     "metadata": {},
     "output_type": "execute_result"
    }
   ],
   "source": [
    "player"
   ]
  },
  {
   "cell_type": "code",
   "execution_count": null,
   "id": "036281b0",
   "metadata": {},
   "outputs": [],
   "source": [
    "#Date-03-07-2022\n",
    "#Time=21:25"
   ]
  }
 ],
 "metadata": {
  "kernelspec": {
   "display_name": "Python 3 (ipykernel)",
   "language": "python",
   "name": "python3"
  },
  "language_info": {
   "codemirror_mode": {
    "name": "ipython",
    "version": 3
   },
   "file_extension": ".py",
   "mimetype": "text/x-python",
   "name": "python",
   "nbconvert_exporter": "python",
   "pygments_lexer": "ipython3",
   "version": "3.9.12"
  }
 },
 "nbformat": 4,
 "nbformat_minor": 5
}
